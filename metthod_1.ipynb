{
 "cells": [
  {
   "cell_type": "code",
   "execution_count": 46,
   "metadata": {},
   "outputs": [],
   "source": [
    "import sympy\n",
    "import numpy as np\n",
    "from sympy import Eq, solve, symbols, simplify, Symbol"
   ]
  },
  {
   "cell_type": "code",
   "execution_count": 47,
   "metadata": {},
   "outputs": [
    {
     "name": "stdout",
     "output_type": "stream",
     "text": [
      "ax:  20.0 ay:  20.0\n"
     ]
    }
   ],
   "source": [
    "# Se definen algunas variables y constantes iniciales, como Azx, Azy, x, y, k, etc\n",
    "Azx = 2\n",
    "Azy = 2\n",
    "x = 2\n",
    "y = 2\n",
    "k = 20\n",
    "\n",
    "# Se calculan los valores de ax y ay utilizando las fórmulas proporcionadas.\n",
    "ax = (k * Azy) / x\n",
    "ay = (k * Azx) / y\n",
    "\n",
    "# Se imprimen los valores de ax y ay\n",
    "print(\"ax: \", ax, \"ay: \", ay)\n",
    "\n",
    "# Se definen las variables simbólicas para poder resolver las ecuaciones\n",
    "T_AMB = 30\n",
    "TL = 35\n",
    "TB = 35\n",
    "TD = 35\n",
    "length, height = 1, 1\n"
   ]
  },
  {
   "cell_type": "code",
   "execution_count": 48,
   "metadata": {},
   "outputs": [],
   "source": [
    "# # asume a rectangle sides\n",
    "# ax = symbols('ax')\n",
    "# ay = symbols('ay')\n",
    "\n",
    "# # asume the temperatura\n",
    "# TL = symbols('TL')\n",
    "# TB = symbols('TB')\n",
    "# TD = symbols('TD')\n",
    "# T_AMB = symbols('T_AMB')\n"
   ]
  },
  {
   "cell_type": "code",
   "execution_count": 49,
   "metadata": {},
   "outputs": [
    {
     "data": {
      "text/plain": [
       "(array([35, 35, 35]), array([30, 30, 30]), array([35]), array([35]))"
      ]
     },
     "execution_count": 49,
     "metadata": {},
     "output_type": "execute_result"
    }
   ],
   "source": [
    "# Se crea un arreglo T_lowers que contiene la temperatura TB repetida varias veces, y un arreglo T_upper que contiene la temperatura T_AMB repetida varias veces.\n",
    "T_lowers = np.array([TB for i in range(length + 2)])\n",
    "T_upper = np.array([T_AMB for i in range(length + 2)])\n",
    "\n",
    "# Se crea un arreglo T_left con la temperatura TL, y otro arreglo T_right con la temperatura TD.\n",
    "T_left = np.array([TL])\n",
    "T_right = np.array([TD])\n",
    "\n",
    "T_lowers, T_upper, T_left, T_right"
   ]
  },
  {
   "cell_type": "code",
   "execution_count": 50,
   "metadata": {},
   "outputs": [
    {
     "name": "stdout",
     "output_type": "stream",
     "text": [
      "[[30 30 30]\n",
      " [35 T_1 35]\n",
      " [35 35 35]]\n"
     ]
    }
   ],
   "source": [
    "# Se define la función concat que concatena los arreglos T_left, row, y T_right.\n",
    "concat = lambda row : np.concatenate((T_left, row, T_right))\n",
    "\n",
    "# Se crea un arreglo count_temperatures que contiene una secuencia de números del 1 al número total de temperaturas en la matriz\n",
    "count_temperatures = np.arange(1, length * height + 1)\n",
    "\n",
    "# Se crea un arreglo variables que contiene símbolos de Sympy para representar las temperaturas desconocidas en el sistema de ecuaciones.\n",
    "variables = np.array([Symbol('T_' + str(i)) for i in count_temperatures])\n",
    "\n",
    "# Se organiza la matrix de acuerdo la configuración height x length\n",
    "matrix = variables.reshape(height, length)[::-1]\n",
    "matrix = np.array([concat(row) for row in matrix])\n",
    "\n",
    "# Se itera sobre las filas y columnas de la matriz y se construye la matriz matrix concatenando los arreglos T_upper, row, y T_lowers, donde row es una fila de la matriz original. \n",
    "matrix = np.concatenate(([T_upper], matrix, [T_lowers]), axis=0)[::-1]\n",
    "print(matrix[::-1])\n"
   ]
  },
  {
   "cell_type": "code",
   "execution_count": 51,
   "metadata": {},
   "outputs": [
    {
     "name": "stdout",
     "output_type": "stream",
     "text": [
      "Eq(5400.0 - 160.0*T_1, 0) T_1\n"
     ]
    }
   ],
   "source": [
    "# Se crea un arreglo vacío eqts para almacenar las ecuaciones del sistema.\n",
    "eqts = np.array([], dtype=Symbol)\n",
    "\n",
    "# Se itera sobre las filas y columnas de la matriz matrix y se construyen las ecuaciones del sistema utilizando las temperaturas y coeficientes correspondientes. Estas ecuaciones se agregan al arreglo eqts.\n",
    "for i in range(1, height +1):\n",
    "\n",
    "    for j in range(1, length + 1):\n",
    "        \n",
    "        T_i = matrix[i][j]\n",
    "        T_i_up = matrix[i + 1][j]\n",
    "        T_i_down = matrix[i - 1][j]\n",
    "        T_i_left = matrix[i][j - 1]\n",
    "        T_i_right = matrix[i][j + 1]\n",
    "        \n",
    "        k_h_r = 2 if j == 1  else 1\n",
    "        k_h_l = 2 if j == length else 1\n",
    "        k_y_d = 2 if i == 1 else 1\n",
    "        k_y_u = 2 if i == height else 1\n",
    "        \n",
    "        \n",
    "        eqt = k_h_r * ax * (T_i_left - T_i) + k_y_u * ay * (T_i_up - T_i) + k_h_l * ax * (T_i_right - T_i) + k_y_d * ay * (T_i_down - T_i)\n",
    "        eqt = Eq(eqt, 0)\n",
    "        eqts = np.append(eqts, eqt)\n",
    "        print(eqt, matrix[i][j])"
   ]
  },
  {
   "cell_type": "code",
   "execution_count": 52,
   "metadata": {},
   "outputs": [
    {
     "name": "stdout",
     "output_type": "stream",
     "text": [
      "Eq(5400.0 - 160.0*T_1, 0) T_1\n"
     ]
    }
   ],
   "source": [
    "# Se crea un arreglo vacío eqts para almacenar las ecuaciones del sistema.\n",
    "eqts = np.array([], dtype=Symbol)\n",
    "\n",
    "# Se itera sobre las filas y columnas de la matriz matrix y se construyen las ecuaciones del sistema utilizando las temperaturas y coeficientes correspondientes. Estas ecuaciones se agregan al arreglo eqts.\n",
    "for i in range(1, height +1):\n",
    "\n",
    "    for j in range(1, length + 1):\n",
    "        \n",
    "        T_i = matrix[i][j]\n",
    "        T_i_up = matrix[i + 1][j]\n",
    "        T_i_down = matrix[i - 1][j]\n",
    "        T_i_left = matrix[i][j - 1]\n",
    "        T_i_right = matrix[i][j + 1]\n",
    "        \n",
    "        k_h_r = 2 if j == 1  else 1\n",
    "        k_h_l = 2 if j == length else 1\n",
    "        k_y_d = 2 if i == 1 else 1\n",
    "        k_y_u = 2 if i == height else 1\n",
    "        \n",
    "        \n",
    "        eqt = k_h_r * ax * (T_i_left - T_i) + k_y_u * ay * (T_i_up - T_i) + k_h_l * ax * (T_i_right - T_i) + k_y_d * ay * (T_i_down - T_i)\n",
    "        eqt = Eq(eqt, 0)\n",
    "        eqts = np.append(eqts, eqt)\n",
    "        print(eqt, matrix[i][j])"
   ]
  },
  {
   "cell_type": "code",
   "execution_count": 53,
   "metadata": {},
   "outputs": [
    {
     "data": {
      "text/plain": [
       "{T_1: 33.7500000000000}"
      ]
     },
     "execution_count": 53,
     "metadata": {},
     "output_type": "execute_result"
    }
   ],
   "source": [
    "solve(eqts, *variables)"
   ]
  }
 ],
 "metadata": {
  "kernelspec": {
   "display_name": "pruebas",
   "language": "python",
   "name": "python3"
  },
  "language_info": {
   "codemirror_mode": {
    "name": "ipython",
    "version": 3
   },
   "file_extension": ".py",
   "mimetype": "text/x-python",
   "name": "python",
   "nbconvert_exporter": "python",
   "pygments_lexer": "ipython3",
   "version": "3.10.10"
  },
  "orig_nbformat": 4
 },
 "nbformat": 4,
 "nbformat_minor": 2
}
