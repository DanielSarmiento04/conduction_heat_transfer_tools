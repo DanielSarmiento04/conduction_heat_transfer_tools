{
 "cells": [
  {
   "cell_type": "code",
   "execution_count": 23,
   "metadata": {},
   "outputs": [],
   "source": [
    "import sympy\n",
    "import numpy as np\n",
    "from sympy import Eq, solve, symbols, simplify, Symbol\n",
    "import pandas as pd\n",
    "from colorama import Fore"
   ]
  },
  {
   "cell_type": "code",
   "execution_count": 24,
   "metadata": {},
   "outputs": [
    {
     "name": "stdout",
     "output_type": "stream",
     "text": [
      "ax:  20.0 ay:  20.0\n"
     ]
    }
   ],
   "source": [
    "# Se definen algunas variables y constantes iniciales, como Azx, Azy, x, y, k, etc\n",
    "Azx = 2\n",
    "Azy = 2\n",
    "x = 2\n",
    "y = 2\n",
    "k = 20\n",
    "\n",
    "# Se calculan los valores de ax y ay utilizando las fórmulas proporcionadas.\n",
    "ax = (k * Azy) / x\n",
    "ay = (k * Azx) / y\n",
    "\n",
    "# Se imprimen los valores de ax y ay\n",
    "print(\"ax: \", ax, \"ay: \", ay)\n",
    "\n",
    "# Se definen las variables simbólicas para poder resolver las ecuaciones\n",
    "T_AMB = 30\n",
    "TL = 35\n",
    "TB = 35\n",
    "TD = 35\n"
   ]
  },
  {
   "cell_type": "code",
   "execution_count": 57,
   "metadata": {},
   "outputs": [
    {
     "name": "stdout",
     "output_type": "stream",
     "text": [
      "\u001b[93mi , j = (0, 0) \u001b[96mk_h_r, k_h_l, k_y_d, k_y_u = (1, 2, 2, 1)\u001b[39m\n",
      "i,j = (0, 0) down 1400.0\n",
      "i,j = (0, 0) left 1400.0\n",
      "\u001b[93mi , j = (0, 1) \u001b[96mk_h_r, k_h_l, k_y_d, k_y_u = (2, 1, 2, 1)\u001b[39m\n",
      "1\n",
      "i,j = (0, 1) down 1400.0\n",
      "i,j = (0, 1) right 1400.0\n",
      "\u001b[93mi , j = (1, 0) \u001b[96mk_h_r, k_h_l, k_y_d, k_y_u = (1, 2, 1, 2)\u001b[39m\n",
      "i,j = (1, 0) upper 1200.0\n",
      "i,j = (1, 0) left 1400.0\n",
      "\u001b[93mi , j = (1, 1) \u001b[96mk_h_r, k_h_l, k_y_d, k_y_u = (2, 1, 1, 2)\u001b[39m\n",
      "3\n"
     ]
    },
    {
     "ename": "IndexError",
     "evalue": "index 5 is out of bounds for axis 1 with size 4",
     "output_type": "error",
     "traceback": [
      "\u001b[0;31m---------------------------------------------------------------------------\u001b[0m",
      "\u001b[0;31mIndexError\u001b[0m                                Traceback (most recent call last)",
      "Cell \u001b[0;32mIn[57], line 26\u001b[0m\n\u001b[1;32m     24\u001b[0m \u001b[39mif\u001b[39;00m k_h_l \u001b[39m==\u001b[39m \u001b[39m1\u001b[39m:\n\u001b[1;32m     25\u001b[0m     \u001b[39mprint\u001b[39m(i \u001b[39m*\u001b[39m length \u001b[39m+\u001b[39m j)\n\u001b[0;32m---> 26\u001b[0m     eqt[i \u001b[39m*\u001b[39m length \u001b[39m+\u001b[39m j, (i \u001b[39m+\u001b[39m \u001b[39m1\u001b[39m) \u001b[39m*\u001b[39m length \u001b[39m+\u001b[39m j] \u001b[39m+\u001b[39m\u001b[39m=\u001b[39m k_h_l \u001b[39m*\u001b[39m ax\n\u001b[1;32m     28\u001b[0m \u001b[39m#     eqt[i * length + j, i * length + j ] += k_h_l * ax\u001b[39;00m\n\u001b[1;32m     29\u001b[0m     \u001b[39m# eqt[i * length + j, i * length + j + 1] += k_h_r * ax\u001b[39;00m\n\u001b[1;32m     30\u001b[0m \n\u001b[1;32m     31\u001b[0m \n\u001b[1;32m     32\u001b[0m \u001b[39m# Vertical line\u001b[39;00m\n\u001b[1;32m     33\u001b[0m \u001b[39mif\u001b[39;00m k_y_d \u001b[39m==\u001b[39m \u001b[39m2\u001b[39m:\n",
      "\u001b[0;31mIndexError\u001b[0m: index 5 is out of bounds for axis 1 with size 4"
     ]
    }
   ],
   "source": [
    "\n",
    "length, height = 2, 2\n",
    "\n",
    "eqt = np.zeros((height * length, height * length))\n",
    "\n",
    "result = np.zeros((height, length))\n",
    "\n",
    "for i in range(0, height):\n",
    "\n",
    "    for j in range(0, length):\n",
    "        \n",
    "        k_h_r = 2 if j == length - 1  else 1\n",
    "        k_h_l = 2 if j == 0  else 1\n",
    "        k_y_d = 2 if i == 0 else 1\n",
    "        k_y_u = 2 if i == height - 1 else 1\n",
    "\n",
    "        print(\n",
    "            Fore.LIGHTYELLOW_EX + f'{i , j = } ' + \n",
    "            Fore.LIGHTCYAN_EX +  f'{k_h_r, k_h_l, k_y_d, k_y_u = }' + Fore.RESET\n",
    "        )\n",
    "\n",
    "        eqt[i * length + j, i * length + j]  += - k_h_l * ax - k_h_r * ax - k_y_d * ay - k_y_u * ay\n",
    "\n",
    "        \n",
    "        if k_h_l == 1:\n",
    "            print(i * length + j)\n",
    "            eqt[i * length + j, (i + 1) * length + j] += k_h_l * ax\n",
    "\n",
    "        #     eqt[i * length + j, i * length + j ] += k_h_l * ax\n",
    "            # eqt[i * length + j, i * length + j + 1] += k_h_r * ax\n",
    "\n",
    "\n",
    "        # Vertical line\n",
    "        if k_y_d == 2:\n",
    "            print(f'{i,j = } down',  k_y_d * ay * TB)\n",
    "            result[i][j] -= k_y_d * ay * TB\n",
    "\n",
    "        \n",
    "        if k_y_u == 2:\n",
    "            print(f'{i,j = } upper', k_y_u * ay * T_AMB)\n",
    "            result[i][j] -= k_y_u * ay * T_AMB\n",
    "        \n",
    "        # Horizontal line\n",
    "        if k_h_l == 2:\n",
    "            print(f'{i,j = } left', k_h_l * ax * TL)\n",
    "            result[i][j] -= k_h_l * ax * TL\n",
    "        if k_h_r == 2:\n",
    "            print(f'{i,j = } right', k_h_r * ax * TD)\n",
    "            result[i][j] -= k_h_r * ax * TD\n",
    "    \n",
    "result = result.flatten()\n",
    "print()\n",
    "print(eqt)\n",
    "print(result)\n",
    "        "
   ]
  },
  {
   "cell_type": "code",
   "execution_count": 46,
   "metadata": {},
   "outputs": [
    {
     "data": {
      "text/plain": [
       "{'T_1': 23.333333333333332,\n",
       " 'T_2': 23.333333333333332,\n",
       " 'T_3': 21.666666666666668,\n",
       " 'T_4': 21.666666666666668}"
      ]
     },
     "execution_count": 46,
     "metadata": {},
     "output_type": "execute_result"
    }
   ],
   "source": [
    "results = np.linalg.solve(eqt, result)\n",
    "\n",
    "results = {f'T_{i + 1}': results[i] for i in range(len(results))}\n",
    "results"
   ]
  }
 ],
 "metadata": {
  "kernelspec": {
   "display_name": "pruebas",
   "language": "python",
   "name": "python3"
  },
  "language_info": {
   "codemirror_mode": {
    "name": "ipython",
    "version": 3
   },
   "file_extension": ".py",
   "mimetype": "text/x-python",
   "name": "python",
   "nbconvert_exporter": "python",
   "pygments_lexer": "ipython3",
   "version": "3.10.10"
  },
  "orig_nbformat": 4
 },
 "nbformat": 4,
 "nbformat_minor": 2
}
