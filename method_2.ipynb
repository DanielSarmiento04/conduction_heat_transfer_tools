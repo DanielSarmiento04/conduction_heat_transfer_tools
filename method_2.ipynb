{
 "cells": [
  {
   "cell_type": "code",
   "execution_count": 7,
   "metadata": {},
   "outputs": [],
   "source": [
    "import sympy\n",
    "import numpy as np\n",
    "from sympy import Eq, solve, symbols, simplify, Symbol"
   ]
  },
  {
   "cell_type": "code",
   "execution_count": 8,
   "metadata": {},
   "outputs": [
    {
     "name": "stdout",
     "output_type": "stream",
     "text": [
      "ax:  20.0 ay:  20.0\n"
     ]
    }
   ],
   "source": [
    "# Se definen algunas variables y constantes iniciales, como Azx, Azy, x, y, k, etc\n",
    "Azx = 2\n",
    "Azy = 2\n",
    "x = 2\n",
    "y = 2\n",
    "k = 20\n",
    "\n",
    "# Se calculan los valores de ax y ay utilizando las fórmulas proporcionadas.\n",
    "ax = (k * Azy) / x\n",
    "ay = (k * Azx) / y\n",
    "\n",
    "# Se imprimen los valores de ax y ay\n",
    "print(\"ax: \", ax, \"ay: \", ay)\n",
    "\n",
    "# Se definen las variables simbólicas para poder resolver las ecuaciones\n",
    "T_AMB = 30\n",
    "TL = 35\n",
    "TB = 35\n",
    "TD = 35\n"
   ]
  },
  {
   "cell_type": "code",
   "execution_count": 12,
   "metadata": {},
   "outputs": [
    {
     "name": "stdout",
     "output_type": "stream",
     "text": [
      "i , j = (0, 0)\n",
      "k_h_r, k_h_l, k_y_d, k_y_u = (2, 2, 2, 2)\n",
      "\n",
      "[[-160.]]\n",
      "[-5400.]\n"
     ]
    }
   ],
   "source": [
    "\n",
    "length, height = 1, 1\n",
    "\n",
    "eqt = np.zeros((height * length, height * length))\n",
    "# eqt÷\n",
    "\n",
    "result = np.zeros(height * length)\n",
    "\n",
    "for i in range(0, height):\n",
    "\n",
    "    for j in range(0, length ):\n",
    "        print(f'{i , j = }')\n",
    "        \n",
    "        k_h_r = 2 if j == length - 1  else 1\n",
    "        k_h_l = 2 if j == 0  else 1\n",
    "        k_y_d = 2 if i == 0 else 1\n",
    "        k_y_u = 2 if i == height - 1 else 1\n",
    "        print(f'{k_h_r, k_h_l, k_y_d, k_y_u = }')\n",
    "\n",
    "        eqt[j][j] += - k_h_l * ax  - k_y_d * ay - k_y_u * ay - k_h_r * ax\n",
    "\n",
    "        if j + 1 < length:\n",
    "            eqt[j][j + 1] += k_h_r * ax\n",
    "\n",
    "        if j - 1 >= 0:\n",
    "\n",
    "            eqt[j][j - 1] += k_h_l * ax\n",
    "\n",
    "        if j == 0 : \n",
    "            result[j] -= k_h_l * ax * TL\n",
    "        if j == length - 1 : \n",
    "            result[j] -= k_h_r * ax * TD\n",
    "        if i == 0 : \n",
    "            result[j] -= k_y_d * ay * TB\n",
    "        if i == height - 1 : \n",
    "            result[j] -= k_y_u * ay * T_AMB\n",
    "\n",
    "   \n",
    "print()\n",
    "print(eqt)\n",
    "print(result)\n",
    "        "
   ]
  },
  {
   "cell_type": "code",
   "execution_count": 13,
   "metadata": {},
   "outputs": [
    {
     "data": {
      "text/plain": [
       "{'T_1': 33.75}"
      ]
     },
     "execution_count": 13,
     "metadata": {},
     "output_type": "execute_result"
    }
   ],
   "source": [
    "results = np.linalg.solve(eqt, result)\n",
    "\n",
    "results = {f'T_{i + 1}': results[i] for i in range(len(results))}\n",
    "results"
   ]
  }
 ],
 "metadata": {
  "kernelspec": {
   "display_name": "pruebas",
   "language": "python",
   "name": "python3"
  },
  "language_info": {
   "codemirror_mode": {
    "name": "ipython",
    "version": 3
   },
   "file_extension": ".py",
   "mimetype": "text/x-python",
   "name": "python",
   "nbconvert_exporter": "python",
   "pygments_lexer": "ipython3",
   "version": "3.10.10"
  },
  "orig_nbformat": 4
 },
 "nbformat": 4,
 "nbformat_minor": 2
}
