{
 "cells": [
  {
   "cell_type": "code",
   "execution_count": 1,
   "metadata": {},
   "outputs": [],
   "source": [
    "import sympy\n",
    "import numpy as np\n",
    "from sympy import Eq, solve, symbols, simplify, Symbol"
   ]
  },
  {
   "cell_type": "code",
   "execution_count": 2,
   "metadata": {},
   "outputs": [],
   "source": [
    "# asume a rectangle sides\n",
    "ax = symbols('ax')\n",
    "ay = symbols('ay')\n",
    "\n",
    "# asume the temperatura\n",
    "TL = symbols('TL')\n",
    "TB = symbols('TB')\n",
    "TD = symbols('TD')\n",
    "T_AMB = symbols('T_AMB')\n",
    "\n",
    "length, height = 5, 4"
   ]
  },
  {
   "cell_type": "code",
   "execution_count": 3,
   "metadata": {},
   "outputs": [
    {
     "data": {
      "text/plain": [
       "(array([TB, TB, TB, TB, TB, TB, TB], dtype=object),\n",
       " array([T_AMB, T_AMB, T_AMB, T_AMB, T_AMB, T_AMB, T_AMB], dtype=object),\n",
       " array([TL], dtype=object),\n",
       " array([TD], dtype=object))"
      ]
     },
     "execution_count": 3,
     "metadata": {},
     "output_type": "execute_result"
    }
   ],
   "source": [
    "T_lowers = np.array([TB for i in range(length + 2)])\n",
    "T_upper = np.array([T_AMB for i in range(length + 2)])\n",
    "\n",
    "T_left = np.array([TL])\n",
    "T_right = np.array([TD])\n",
    "\n",
    "T_lowers, T_upper, T_left, T_right"
   ]
  },
  {
   "cell_type": "code",
   "execution_count": 4,
   "metadata": {},
   "outputs": [],
   "source": [
    "def concat(row):\n",
    "    return np.concatenate[T_left, row, T_right]\n",
    "    "
   ]
  },
  {
   "cell_type": "code",
   "execution_count": 5,
   "metadata": {},
   "outputs": [
    {
     "name": "stdout",
     "output_type": "stream",
     "text": [
      "[[T_AMB T_AMB T_AMB T_AMB T_AMB T_AMB T_AMB]\n",
      " [TL T_16 T_17 T_18 T_19 T_20 TD]\n",
      " [TL T_11 T_12 T_13 T_14 T_15 TD]\n",
      " [TL T_6 T_7 T_8 T_9 T_10 TD]\n",
      " [TL T_1 T_2 T_3 T_4 T_5 TD]\n",
      " [TB TB TB TB TB TB TB]]\n"
     ]
    }
   ],
   "source": [
    "def concat(row):\n",
    "    return np.concatenate((T_left, row, T_right))\n",
    "\n",
    "matrix = np.arange(1, length * height + 1)\n",
    "matrix = np.array([Symbol('T_' + str(i)) for i in matrix]).reshape(height, length)[::-1]\n",
    "\n",
    "matrix = np.array([concat(row) for row in matrix])\n",
    "# first, *middle, last = matrix\n",
    "# Make a matrix with 20 values with T sides values\n",
    "matrix = np.concatenate(([T_upper], matrix, [T_lowers]), axis=0)[::-1]\n",
    "print(matrix[::-1])\n"
   ]
  },
  {
   "cell_type": "code",
   "execution_count": 8,
   "metadata": {},
   "outputs": [
    {
     "name": "stdout",
     "output_type": "stream",
     "text": [
      "2*ax*(TL - T_1) + ax*(-T_1 + T_2) + 2*ay*(TB - T_1) + ay*(-T_1 + T_6) T_1\n",
      "ax*(T_1 - T_2) + ax*(-T_2 + T_3) + 2*ay*(TB - T_2) + ay*(-T_2 + T_7) T_2\n",
      "ax*(T_2 - T_3) + ax*(-T_3 + T_4) + 2*ay*(TB - T_3) + ay*(-T_3 + T_8) T_3\n",
      "ax*(T_3 - T_4) + ax*(-T_4 + T_5) + 2*ay*(TB - T_4) + ay*(-T_4 + T_9) T_4\n",
      "2*ax*(TD - T_5) + ax*(T_4 - T_5) + 2*ay*(TB - T_5) + ay*(T_10 - T_5) T_5\n",
      "2*ax*(TL - T_6) + ax*(-T_6 + T_7) + ay*(T_1 - T_6) + ay*(T_11 - T_6) T_6\n",
      "ax*(T_6 - T_7) + ax*(-T_7 + T_8) + ay*(T_12 - T_7) + ay*(T_2 - T_7) T_7\n",
      "ax*(T_7 - T_8) + ax*(-T_8 + T_9) + ay*(T_13 - T_8) + ay*(T_3 - T_8) T_8\n",
      "ax*(T_10 - T_9) + ax*(T_8 - T_9) + ay*(T_14 - T_9) + ay*(T_4 - T_9) T_9\n",
      "2*ax*(TD - T_10) + ax*(-T_10 + T_9) + ay*(-T_10 + T_15) + ay*(-T_10 + T_5) T_10\n",
      "2*ax*(TL - T_11) + ax*(-T_11 + T_12) + ay*(-T_11 + T_16) + ay*(-T_11 + T_6) T_11\n",
      "ax*(T_11 - T_12) + ax*(-T_12 + T_13) + ay*(-T_12 + T_17) + ay*(-T_12 + T_7) T_12\n",
      "ax*(T_12 - T_13) + ax*(-T_13 + T_14) + ay*(-T_13 + T_18) + ay*(-T_13 + T_8) T_13\n",
      "ax*(T_13 - T_14) + ax*(-T_14 + T_15) + ay*(-T_14 + T_19) + ay*(-T_14 + T_9) T_14\n",
      "2*ax*(TD - T_15) + ax*(T_14 - T_15) + ay*(T_10 - T_15) + ay*(-T_15 + T_20) T_15\n",
      "2*ax*(TL - T_16) + ax*(-T_16 + T_17) + ay*(T_11 - T_16) + 2*ay*(-T_16 + T_AMB) T_16\n",
      "ax*(T_16 - T_17) + ax*(-T_17 + T_18) + ay*(T_12 - T_17) + 2*ay*(-T_17 + T_AMB) T_17\n",
      "ax*(T_17 - T_18) + ax*(-T_18 + T_19) + ay*(T_13 - T_18) + 2*ay*(-T_18 + T_AMB) T_18\n",
      "ax*(T_18 - T_19) + ax*(-T_19 + T_20) + ay*(T_14 - T_19) + 2*ay*(-T_19 + T_AMB) T_19\n",
      "2*ax*(TD - T_20) + ax*(T_19 - T_20) + ay*(T_15 - T_20) + 2*ay*(-T_20 + T_AMB) T_20\n"
     ]
    }
   ],
   "source": [
    "eqts = np.array([], dtype=Symbol)\n",
    "\n",
    "for i in range(1, height +1):\n",
    "\n",
    "    for j in range(1, length + 1):\n",
    "        \n",
    "        T_i = matrix[i][j]\n",
    "        T_i_up = matrix[i + 1][j]\n",
    "        T_i_down = matrix[i - 1][j]\n",
    "        T_i_left = matrix[i][j - 1]\n",
    "        T_i_right = matrix[i][j + 1]\n",
    "\n",
    "        k_h_r = 2 if j == 1  else 1\n",
    "        k_h_l = 2 if j == length else 1\n",
    "        k_y_d = 2 if i == 1 else 1\n",
    "        k_y_u = 2 if i == height else 1\n",
    "\n",
    "        eqt = k_h_r * ax * (T_i_left - T_i) + k_y_u*ay * (T_i_up - T_i) + k_h_l * ax * (T_i_right - T_i) + k_y_d * ay * (T_i_down - T_i)\n",
    "        eqts = np.append(eqts, eqt)\n",
    "        print(eqt, matrix[i][j])"
   ]
  },
  {
   "cell_type": "code",
   "execution_count": 8,
   "metadata": {},
   "outputs": [
    {
     "name": "stdout",
     "output_type": "stream",
     "text": [
      "[[TB TB TB TB TB TB TB]\n",
      " [TL TB/4 + TL/4 + T_2/4 + T_6/4\n",
      "  5*TB/16 + TL/16 + T_2/16 + T_3/4 + T_6/16 + T_7/4\n",
      "  21*TB/64 + TL/64 + T_2/64 + T_3/16 + T_4/4 + T_6/64 + T_7/16 + T_8/4\n",
      "  85*TB/256 + TL/256 + T_2/256 + T_3/64 + T_4/16 + T_5/4 + T_6/256 + T_7/64 + T_8/16 + T_9/4\n",
      "  341*TB/1024 + TD/4 + TL/1024 + T_10/4 + T_2/1024 + T_3/256 + T_4/64 + T_5/16 + T_6/1024 + T_7/256 + T_8/64 + T_9/16\n",
      "  TD]\n",
      " [TL TB/16 + 5*TL/16 + T_11/4 + T_2/16 + T_6/16 + T_7/4\n",
      "  3*TB/32 + 3*TL/32 + T_11/16 + T_12/4 + T_2/32 + T_3/16 + T_6/32 + T_7/8 + T_8/4\n",
      "  27*TB/256 + 7*TL/256 + T_11/64 + T_12/16 + T_13/4 + 3*T_2/256 + T_3/32 + T_4/16 + 3*T_6/256 + 3*T_7/64 + T_8/8 + T_9/4\n",
      "  7*TB/64 + TL/128 + T_10/4 + T_11/256 + T_12/64 + T_13/16 + T_14/4 + T_2/256 + 3*T_3/256 + T_4/32 + T_5/16 + T_6/256 + T_7/64 + 3*T_8/64 + T_9/8\n",
      "  453*TB/4096 + 5*TD/16 + 9*TL/4096 + T_10/8 + T_11/1024 + T_12/256 + T_13/64 + T_14/16 + T_15/4 + 5*T_2/4096 + T_3/256 + 3*T_4/256 + T_5/32 + 5*T_6/4096 + 5*T_7/1024 + T_8/64 + 3*T_9/64\n",
      "  TD]\n",
      " [TL\n",
      "  TB/64 + 21*TL/64 + T_11/16 + T_12/4 + T_16/4 + T_2/64 + T_6/64 + T_7/16\n",
      "  7*TB/256 + 27*TL/256 + T_11/32 + T_12/8 + T_13/4 + T_16/16 + T_17/4 + 3*T_2/256 + T_3/64 + 3*T_6/256 + 3*T_7/64 + T_8/16\n",
      "  17*TB/512 + 17*TL/512 + 3*T_11/256 + 3*T_12/64 + T_13/8 + T_14/4 + T_16/64 + T_17/16 + T_18/4 + 3*T_2/512 + 3*T_3/256 + T_4/64 + 3*T_6/512 + 3*T_7/128 + 3*T_8/64 + T_9/16\n",
      "  73*TB/2048 + 21*TL/2048 + T_10/16 + T_11/256 + T_12/64 + 3*T_13/64 + T_14/8 + T_15/4 + T_16/256 + T_17/64 + T_18/16 + T_19/4 + 5*T_2/2048 + 3*T_3/512 + 3*T_4/256 + T_5/64 + 5*T_6/2048 + 5*T_7/512 + 3*T_8/128 + 3*T_9/64\n",
      "  599*TB/16384 + 21*TD/64 + 51*TL/16384 + 3*T_10/64 + 5*T_11/4096 + 5*T_12/1024 + T_13/64 + 3*T_14/64 + T_15/8 + T_16/1024 + T_17/256 + T_18/64 + T_19/16 + 15*T_2/16384 + T_20/4 + 5*T_3/2048 + 3*T_4/512 + 3*T_5/256 + 15*T_6/16384 + 15*T_7/4096 + 5*T_8/512 + 3*T_9/128\n",
      "  TD]\n",
      " [TL\n",
      "  TB/256 + 85*TL/256 + T_11/64 + T_12/16 + T_16/16 + T_17/4 + T_2/256 + T_6/256 + T_7/64 + T_AMB/4\n",
      "  TB/128 + 7*TL/64 + 3*T_11/256 + 3*T_12/64 + T_13/16 + T_16/32 + T_17/8 + T_18/4 + T_2/256 + T_3/256 + T_6/256 + T_7/64 + T_8/64 + 5*T_AMB/16\n",
      "  21*TB/2048 + 73*TL/2048 + 3*T_11/512 + 3*T_12/128 + 3*T_13/64 + T_14/16 + 3*T_16/256 + 3*T_17/64 + T_18/8 + T_19/4 + 5*T_2/2048 + T_3/256 + T_4/256 + 5*T_6/2048 + 5*T_7/512 + T_8/64 + T_9/64 + 21*T_AMB/64\n",
      "  47*TB/4096 + 47*TL/4096 + T_10/64 + 5*T_11/2048 + 5*T_12/512 + 3*T_13/128 + 3*T_14/64 + T_15/16 + T_16/256 + T_17/64 + 3*T_18/64 + T_19/8 + 5*T_2/4096 + T_20/4 + 5*T_3/2048 + T_4/256 + T_5/256 + 5*T_6/4096 + 5*T_7/1024 + 5*T_8/512 + T_9/64 + 85*T_AMB/256\n",
      "  787*TB/65536 + 85*TD/256 + 239*TL/65536 + T_10/64 + 15*T_11/16384 + 15*T_12/4096 + 5*T_13/512 + 3*T_14/128 + 3*T_15/64 + 5*T_16/4096 + 5*T_17/1024 + T_18/64 + 3*T_19/64 + 35*T_2/65536 + T_20/8 + 5*T_3/4096 + 5*T_4/2048 + T_5/256 + 35*T_6/65536 + 35*T_7/16384 + 5*T_8/1024 + 5*T_9/512 + 341*T_AMB/1024\n",
      "  TD]\n",
      " [T_AMB T_AMB T_AMB T_AMB T_AMB T_AMB T_AMB]]\n"
     ]
    }
   ],
   "source": [
    "for i in range(1, height + 1):\n",
    "    for j in range(1, length + 1):\n",
    "        matrix[i][j] = (matrix[i - 1][j] + matrix[i + 1][j] + matrix[i][j - 1] + matrix[i][j + 1]) / 4\n",
    "print(matrix)"
   ]
  },
  {
   "cell_type": "code",
   "execution_count": 9,
   "metadata": {},
   "outputs": [
    {
     "name": "stdout",
     "output_type": "stream",
     "text": [
      "1.0150000000000001\n",
      "6.6235294117647046\n",
      "205.6\n"
     ]
    }
   ],
   "source": [
    "D_i = 1.1  - 2 * 0.085\n",
    "D_m = D_i + 0.085\n",
    "print(D_m)\n",
    "\n",
    "N_a = 0.563 / 0.085\n",
    "print(N_a)\n",
    "print(8.95*(29.4 - 21.4) + 134)"
   ]
  },
  {
   "cell_type": "code",
   "execution_count": 10,
   "metadata": {},
   "outputs": [
    {
     "data": {
      "text/plain": [
       "[44.3720670391061]"
      ]
     },
     "execution_count": 10,
     "metadata": {},
     "output_type": "execute_result"
    }
   ],
   "source": [
    "from sympy import Symbol, solve, symbols, simplify, Eq\n",
    "\n",
    "L_l = Symbol('L_l')\n",
    "eqt = Eq(8.95, 134/(L_l- 29.4))\n",
    "solve(eqt, L_l)"
   ]
  },
  {
   "cell_type": "code",
   "execution_count": 11,
   "metadata": {},
   "outputs": [
    {
     "name": "stdout",
     "output_type": "stream",
     "text": [
      "0.5010000000000001\n",
      "8.491525423728817\n"
     ]
    }
   ],
   "source": [
    "D_e = 0.56\n",
    "d = 0.059\n",
    "\n",
    "D_m = D_e - d\n",
    "print(D_m)\n",
    "c = D_m /d\n",
    "print(c)"
   ]
  },
  {
   "cell_type": "code",
   "execution_count": 12,
   "metadata": {},
   "outputs": [
    {
     "name": "stdout",
     "output_type": "stream",
     "text": [
      "0.506\n",
      "9.2\n",
      "1.1479289940828403\n",
      "1.2446e+05\n",
      "13.07788709983973\n",
      "1.0705\n"
     ]
    }
   ],
   "source": [
    "D_e = 0.561\n",
    "d = 0.055\n",
    "n_a = 10 -2\n",
    "\n",
    "D_m = D_e - d\n",
    "print(D_m)\n",
    "c = D_m /d\n",
    "print(c)\n",
    "\n",
    "k_m = (4*c + 2) / (4*c -3)\n",
    "print(k_m)\n",
    "\n",
    "force = 14\n",
    "sigma_cortante = (8*force *k_m*D_m) / (np.pi * d**3)\n",
    "print(f'{sigma_cortante:,.5g}')\n",
    "\n",
    "\n",
    "G = 11.85e6\n",
    "\n",
    "k = (pow(d, 4)* G) / (8 * pow(D_m, 3) * n_a)\n",
    "print(k)\n",
    "\n",
    "deflection = force / k\n",
    "print(f'{deflection:,.5g}')\n",
    "\n"
   ]
  },
  {
   "cell_type": "code",
   "execution_count": null,
   "metadata": {},
   "outputs": [],
   "source": []
  },
  {
   "cell_type": "code",
   "execution_count": 13,
   "metadata": {},
   "outputs": [
    {
     "name": "stdout",
     "output_type": "stream",
     "text": [
      "[[TB TB TB TB TB TB TB]\n",
      " [TL TB/4 + TL/4 + T_2/4 + T_6/4\n",
      "  5*TB/16 + TL/16 + T_2/16 + T_3/4 + T_6/16 + T_7/4\n",
      "  21*TB/64 + TL/64 + T_2/64 + T_3/16 + T_4/4 + T_6/64 + T_7/16 + T_8/4\n",
      "  85*TB/256 + TL/256 + T_2/256 + T_3/64 + T_4/16 + T_5/4 + T_6/256 + T_7/64 + T_8/16 + T_9/4\n",
      "  341*TB/1024 + TD/4 + TL/1024 + T_10/4 + T_2/1024 + T_3/256 + T_4/64 + T_5/16 + T_6/1024 + T_7/256 + T_8/64 + T_9/16\n",
      "  TD]\n",
      " [TL TB/16 + 5*TL/16 + T_11/4 + T_2/16 + T_6/16 + T_7/4\n",
      "  3*TB/32 + 3*TL/32 + T_11/16 + T_12/4 + T_2/32 + T_3/16 + T_6/32 + T_7/8 + T_8/4\n",
      "  27*TB/256 + 7*TL/256 + T_11/64 + T_12/16 + T_13/4 + 3*T_2/256 + T_3/32 + T_4/16 + 3*T_6/256 + 3*T_7/64 + T_8/8 + T_9/4\n",
      "  7*TB/64 + TL/128 + T_10/4 + T_11/256 + T_12/64 + T_13/16 + T_14/4 + T_2/256 + 3*T_3/256 + T_4/32 + T_5/16 + T_6/256 + T_7/64 + 3*T_8/64 + T_9/8\n",
      "  453*TB/4096 + 5*TD/16 + 9*TL/4096 + T_10/8 + T_11/1024 + T_12/256 + T_13/64 + T_14/16 + T_15/4 + 5*T_2/4096 + T_3/256 + 3*T_4/256 + T_5/32 + 5*T_6/4096 + 5*T_7/1024 + T_8/64 + 3*T_9/64\n",
      "  TD]\n",
      " [TL\n",
      "  TB/64 + 21*TL/64 + T_11/16 + T_12/4 + T_16/4 + T_2/64 + T_6/64 + T_7/16\n",
      "  7*TB/256 + 27*TL/256 + T_11/32 + T_12/8 + T_13/4 + T_16/16 + T_17/4 + 3*T_2/256 + T_3/64 + 3*T_6/256 + 3*T_7/64 + T_8/16\n",
      "  17*TB/512 + 17*TL/512 + 3*T_11/256 + 3*T_12/64 + T_13/8 + T_14/4 + T_16/64 + T_17/16 + T_18/4 + 3*T_2/512 + 3*T_3/256 + T_4/64 + 3*T_6/512 + 3*T_7/128 + 3*T_8/64 + T_9/16\n",
      "  73*TB/2048 + 21*TL/2048 + T_10/16 + T_11/256 + T_12/64 + 3*T_13/64 + T_14/8 + T_15/4 + T_16/256 + T_17/64 + T_18/16 + T_19/4 + 5*T_2/2048 + 3*T_3/512 + 3*T_4/256 + T_5/64 + 5*T_6/2048 + 5*T_7/512 + 3*T_8/128 + 3*T_9/64\n",
      "  599*TB/16384 + 21*TD/64 + 51*TL/16384 + 3*T_10/64 + 5*T_11/4096 + 5*T_12/1024 + T_13/64 + 3*T_14/64 + T_15/8 + T_16/1024 + T_17/256 + T_18/64 + T_19/16 + 15*T_2/16384 + T_20/4 + 5*T_3/2048 + 3*T_4/512 + 3*T_5/256 + 15*T_6/16384 + 15*T_7/4096 + 5*T_8/512 + 3*T_9/128\n",
      "  TD]\n",
      " [TL\n",
      "  TB/256 + 85*TL/256 + T_11/64 + T_12/16 + T_16/16 + T_17/4 + T_2/256 + T_6/256 + T_7/64 + T_AMB/4\n",
      "  TB/128 + 7*TL/64 + 3*T_11/256 + 3*T_12/64 + T_13/16 + T_16/32 + T_17/8 + T_18/4 + T_2/256 + T_3/256 + T_6/256 + T_7/64 + T_8/64 + 5*T_AMB/16\n",
      "  21*TB/2048 + 73*TL/2048 + 3*T_11/512 + 3*T_12/128 + 3*T_13/64 + T_14/16 + 3*T_16/256 + 3*T_17/64 + T_18/8 + T_19/4 + 5*T_2/2048 + T_3/256 + T_4/256 + 5*T_6/2048 + 5*T_7/512 + T_8/64 + T_9/64 + 21*T_AMB/64\n",
      "  47*TB/4096 + 47*TL/4096 + T_10/64 + 5*T_11/2048 + 5*T_12/512 + 3*T_13/128 + 3*T_14/64 + T_15/16 + T_16/256 + T_17/64 + 3*T_18/64 + T_19/8 + 5*T_2/4096 + T_20/4 + 5*T_3/2048 + T_4/256 + T_5/256 + 5*T_6/4096 + 5*T_7/1024 + 5*T_8/512 + T_9/64 + 85*T_AMB/256\n",
      "  787*TB/65536 + 85*TD/256 + 239*TL/65536 + T_10/64 + 15*T_11/16384 + 15*T_12/4096 + 5*T_13/512 + 3*T_14/128 + 3*T_15/64 + 5*T_16/4096 + 5*T_17/1024 + T_18/64 + 3*T_19/64 + 35*T_2/65536 + T_20/8 + 5*T_3/4096 + 5*T_4/2048 + T_5/256 + 35*T_6/65536 + 35*T_7/16384 + 5*T_8/1024 + 5*T_9/512 + 341*T_AMB/1024\n",
      "  TD]\n",
      " [T_AMB T_AMB T_AMB T_AMB T_AMB T_AMB T_AMB]]\n"
     ]
    }
   ],
   "source": [
    "print(matrix)"
   ]
  },
  {
   "cell_type": "code",
   "execution_count": 14,
   "metadata": {},
   "outputs": [
    {
     "name": "stdout",
     "output_type": "stream",
     "text": [
      "row 0 is [TB TB TB TB TB TB TB]\n",
      "row 1 is [TL TB/4 + TL/4 + T_2/4 + T_6/4\n",
      " 5*TB/16 + TL/16 + T_2/16 + T_3/4 + T_6/16 + T_7/4\n",
      " 21*TB/64 + TL/64 + T_2/64 + T_3/16 + T_4/4 + T_6/64 + T_7/16 + T_8/4\n",
      " 85*TB/256 + TL/256 + T_2/256 + T_3/64 + T_4/16 + T_5/4 + T_6/256 + T_7/64 + T_8/16 + T_9/4\n",
      " 341*TB/1024 + TD/4 + TL/1024 + T_10/4 + T_2/1024 + T_3/256 + T_4/64 + T_5/16 + T_6/1024 + T_7/256 + T_8/64 + T_9/16\n",
      " TD]\n",
      "row 2 is [TL TB/16 + 5*TL/16 + T_11/4 + T_2/16 + T_6/16 + T_7/4\n",
      " 3*TB/32 + 3*TL/32 + T_11/16 + T_12/4 + T_2/32 + T_3/16 + T_6/32 + T_7/8 + T_8/4\n",
      " 27*TB/256 + 7*TL/256 + T_11/64 + T_12/16 + T_13/4 + 3*T_2/256 + T_3/32 + T_4/16 + 3*T_6/256 + 3*T_7/64 + T_8/8 + T_9/4\n",
      " 7*TB/64 + TL/128 + T_10/4 + T_11/256 + T_12/64 + T_13/16 + T_14/4 + T_2/256 + 3*T_3/256 + T_4/32 + T_5/16 + T_6/256 + T_7/64 + 3*T_8/64 + T_9/8\n",
      " 453*TB/4096 + 5*TD/16 + 9*TL/4096 + T_10/8 + T_11/1024 + T_12/256 + T_13/64 + T_14/16 + T_15/4 + 5*T_2/4096 + T_3/256 + 3*T_4/256 + T_5/32 + 5*T_6/4096 + 5*T_7/1024 + T_8/64 + 3*T_9/64\n",
      " TD]\n",
      "row 3 is [TL\n",
      " TB/64 + 21*TL/64 + T_11/16 + T_12/4 + T_16/4 + T_2/64 + T_6/64 + T_7/16\n",
      " 7*TB/256 + 27*TL/256 + T_11/32 + T_12/8 + T_13/4 + T_16/16 + T_17/4 + 3*T_2/256 + T_3/64 + 3*T_6/256 + 3*T_7/64 + T_8/16\n",
      " 17*TB/512 + 17*TL/512 + 3*T_11/256 + 3*T_12/64 + T_13/8 + T_14/4 + T_16/64 + T_17/16 + T_18/4 + 3*T_2/512 + 3*T_3/256 + T_4/64 + 3*T_6/512 + 3*T_7/128 + 3*T_8/64 + T_9/16\n",
      " 73*TB/2048 + 21*TL/2048 + T_10/16 + T_11/256 + T_12/64 + 3*T_13/64 + T_14/8 + T_15/4 + T_16/256 + T_17/64 + T_18/16 + T_19/4 + 5*T_2/2048 + 3*T_3/512 + 3*T_4/256 + T_5/64 + 5*T_6/2048 + 5*T_7/512 + 3*T_8/128 + 3*T_9/64\n",
      " 599*TB/16384 + 21*TD/64 + 51*TL/16384 + 3*T_10/64 + 5*T_11/4096 + 5*T_12/1024 + T_13/64 + 3*T_14/64 + T_15/8 + T_16/1024 + T_17/256 + T_18/64 + T_19/16 + 15*T_2/16384 + T_20/4 + 5*T_3/2048 + 3*T_4/512 + 3*T_5/256 + 15*T_6/16384 + 15*T_7/4096 + 5*T_8/512 + 3*T_9/128\n",
      " TD]\n",
      "row 4 is [TL\n",
      " TB/256 + 85*TL/256 + T_11/64 + T_12/16 + T_16/16 + T_17/4 + T_2/256 + T_6/256 + T_7/64 + T_AMB/4\n",
      " TB/128 + 7*TL/64 + 3*T_11/256 + 3*T_12/64 + T_13/16 + T_16/32 + T_17/8 + T_18/4 + T_2/256 + T_3/256 + T_6/256 + T_7/64 + T_8/64 + 5*T_AMB/16\n",
      " 21*TB/2048 + 73*TL/2048 + 3*T_11/512 + 3*T_12/128 + 3*T_13/64 + T_14/16 + 3*T_16/256 + 3*T_17/64 + T_18/8 + T_19/4 + 5*T_2/2048 + T_3/256 + T_4/256 + 5*T_6/2048 + 5*T_7/512 + T_8/64 + T_9/64 + 21*T_AMB/64\n",
      " 47*TB/4096 + 47*TL/4096 + T_10/64 + 5*T_11/2048 + 5*T_12/512 + 3*T_13/128 + 3*T_14/64 + T_15/16 + T_16/256 + T_17/64 + 3*T_18/64 + T_19/8 + 5*T_2/4096 + T_20/4 + 5*T_3/2048 + T_4/256 + T_5/256 + 5*T_6/4096 + 5*T_7/1024 + 5*T_8/512 + T_9/64 + 85*T_AMB/256\n",
      " 787*TB/65536 + 85*TD/256 + 239*TL/65536 + T_10/64 + 15*T_11/16384 + 15*T_12/4096 + 5*T_13/512 + 3*T_14/128 + 3*T_15/64 + 5*T_16/4096 + 5*T_17/1024 + T_18/64 + 3*T_19/64 + 35*T_2/65536 + T_20/8 + 5*T_3/4096 + 5*T_4/2048 + T_5/256 + 35*T_6/65536 + 35*T_7/16384 + 5*T_8/1024 + 5*T_9/512 + 341*T_AMB/1024\n",
      " TD]\n",
      "row 5 is [T_AMB T_AMB T_AMB T_AMB T_AMB T_AMB T_AMB]\n"
     ]
    }
   ],
   "source": [
    "for idx, row in enumerate(matrix):\n",
    "    print(f'row {idx} is {row}')\n",
    "    match idx:\n",
    "        case 0:\n",
    "\n",
    "            for i in range(1, 3):\n",
    "                T_i = symbols(f'T_{i}')\n",
    "\n",
    "\n",
    "\n",
    "            # eqt = Eq(\n",
    "            #     2*ax*(TL - T_i) + ay*(TB - T_i) + ax*(T - T_i) + 4*ax*(T_AMB - T_i),\n",
    "            #     0\n",
    "            # )\n"
   ]
  },
  {
   "cell_type": "code",
   "execution_count": 15,
   "metadata": {},
   "outputs": [
    {
     "name": "stdout",
     "output_type": "stream",
     "text": [
      "Eq(2*ax*(TL - T_1) - ax*(T_1 - T_2) + ay*(TB - T_1) - 2*ay*(T_1 - T_6), 0)\n"
     ]
    }
   ],
   "source": [
    "array = np.arange(1, 6)\n",
    "for i in array:\n",
    "    \n",
    "    T_i = symbols(f'T_{i}')\n",
    "\n",
    "    match i:\n",
    "        case 1 :\n",
    "            T = symbols(f'T_{i + 1}')\n",
    "            T_upper = symbols(f'T_{i + len(array)}')\n",
    "            eqt = simplify(Eq(\n",
    "                2*ax*(TL - T_i) + ay*(TB - T_i) + ax*(T - T_i) +  2*ay*(T_upper - T_i),\n",
    "                0\n",
    "            ))\n",
    "\n",
    "print(eqt)"
   ]
  }
 ],
 "metadata": {
  "kernelspec": {
   "display_name": "pruebas",
   "language": "python",
   "name": "python3"
  },
  "language_info": {
   "codemirror_mode": {
    "name": "ipython",
    "version": 3
   },
   "file_extension": ".py",
   "mimetype": "text/x-python",
   "name": "python",
   "nbconvert_exporter": "python",
   "pygments_lexer": "ipython3",
   "version": "3.10.10"
  },
  "orig_nbformat": 4
 },
 "nbformat": 4,
 "nbformat_minor": 2
}
